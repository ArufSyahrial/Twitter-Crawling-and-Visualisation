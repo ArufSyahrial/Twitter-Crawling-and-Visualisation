{
  "cells": [
    {
      "cell_type": "markdown",
      "source": [
        "# UTS KSI\n",
        "# 119140031_Muhammad A.M Hikar Syahrial_RD"
      ],
      "metadata": {
        "id": "sFw_3DGFbGVe"
      }
    },
    {
      "cell_type": "code",
      "execution_count": null,
      "metadata": {
        "colab": {
          "base_uri": "https://localhost:8080/"
        },
        "id": "a4yobdYCei56",
        "outputId": "bac92ad5-98d8-4f92-a6c2-7fcfc372670a"
      },
      "outputs": [
        {
          "output_type": "stream",
          "name": "stdout",
          "text": [
            "Requirement already satisfied: tweepy in /usr/local/lib/python3.7/dist-packages (3.10.0)\n",
            "Requirement already satisfied: six>=1.10.0 in /usr/local/lib/python3.7/dist-packages (from tweepy) (1.15.0)\n",
            "Requirement already satisfied: requests-oauthlib>=0.7.0 in /usr/local/lib/python3.7/dist-packages (from tweepy) (1.3.1)\n",
            "Requirement already satisfied: requests[socks]>=2.11.1 in /usr/local/lib/python3.7/dist-packages (from tweepy) (2.23.0)\n",
            "Requirement already satisfied: oauthlib>=3.0.0 in /usr/local/lib/python3.7/dist-packages (from requests-oauthlib>=0.7.0->tweepy) (3.2.0)\n",
            "Requirement already satisfied: idna<3,>=2.5 in /usr/local/lib/python3.7/dist-packages (from requests[socks]>=2.11.1->tweepy) (2.10)\n",
            "Requirement already satisfied: chardet<4,>=3.0.2 in /usr/local/lib/python3.7/dist-packages (from requests[socks]>=2.11.1->tweepy) (3.0.4)\n",
            "Requirement already satisfied: certifi>=2017.4.17 in /usr/local/lib/python3.7/dist-packages (from requests[socks]>=2.11.1->tweepy) (2021.10.8)\n",
            "Requirement already satisfied: urllib3!=1.25.0,!=1.25.1,<1.26,>=1.21.1 in /usr/local/lib/python3.7/dist-packages (from requests[socks]>=2.11.1->tweepy) (1.24.3)\n",
            "Requirement already satisfied: PySocks!=1.5.7,>=1.5.6 in /usr/local/lib/python3.7/dist-packages (from requests[socks]>=2.11.1->tweepy) (1.7.1)\n"
          ]
        }
      ],
      "source": [
        "# installing required library\n",
        "!pip install tweepy"
      ]
    },
    {
      "cell_type": "code",
      "execution_count": null,
      "metadata": {
        "id": "HoD3GqC_mvIt"
      },
      "outputs": [],
      "source": [
        "# importing libraries\n",
        "import tweepy\n",
        "import configparser\n",
        "import pandas as pd\n",
        "import re\n",
        "import itertools as iter\n",
        "import collections\n",
        "import matplotlib.pyplot as plt"
      ]
    },
    {
      "cell_type": "code",
      "execution_count": null,
      "metadata": {
        "id": "vvWAQOEkmycs"
      },
      "outputs": [],
      "source": [
        "# configs\n",
        "config = configparser.ConfigParser()\n",
        "config.read('config.ini')\n",
        "\n",
        "api_key = config['twitter']['api_key']\n",
        "api_key_secret = config['twitter']['api_key_secret']\n",
        "\n",
        "access_token = config['twitter']['access_token']\n",
        "access_token_secret = config['twitter']['access_token_secret']"
      ]
    },
    {
      "cell_type": "code",
      "execution_count": null,
      "metadata": {
        "id": "i0eHf6yypPG9"
      },
      "outputs": [],
      "source": [
        "# authentication\n",
        "auth = tweepy.OAuthHandler(api_key, api_key_secret)\n",
        "auth.set_access_token(access_token, access_token_secret)\n",
        "\n",
        "api = tweepy.API(auth, wait_on_rate_limit=True)"
      ]
    },
    {
      "cell_type": "code",
      "execution_count": null,
      "metadata": {
        "id": "sDwZGXKVpt-X"
      },
      "outputs": [],
      "source": [
        "# searching keyword and saving it to csv file\n",
        "columns = ['Time', 'User', 'Tweet', 'Retweet']\n",
        "data = []\n",
        "\n",
        "for tweet in tweepy.Cursor(api.search, q = 'el classico',\n",
        "                           lang = 'en', \n",
        "                           since = '2022-03-21').items(400):\n",
        "    data.append([tweet.created_at, tweet.user.screen_name, tweet.text, tweet.retweet_count])\n",
        "\n",
        "df1 = pd.DataFrame(data, columns = columns)\n",
        "df1.to_csv('classico.csv')"
      ]
    },
    {
      "cell_type": "markdown",
      "source": [
        "# presenting number of users that tweeted \"el classico\""
      ],
      "metadata": {
        "id": "F1BA9WMpCTGW"
      }
    },
    {
      "cell_type": "code",
      "source": [
        "# formatting tweet time into yy-mm-dd-hh \n",
        "time = df1['Time']\n",
        "date = time.dt.strftime('%m-%d')\n",
        "\n",
        "date.value_counts()"
      ],
      "metadata": {
        "colab": {
          "base_uri": "https://localhost:8080/"
        },
        "id": "4sDHGiiXCSjP",
        "outputId": "e90cbad7-d787-469f-fc98-c8e1a7cb55c9"
      },
      "execution_count": null,
      "outputs": [
        {
          "output_type": "execute_result",
          "data": {
            "text/plain": [
              "03-25    181\n",
              "03-26    112\n",
              "03-27     93\n",
              "03-28     14\n",
              "Name: Time, dtype: int64"
            ]
          },
          "metadata": {},
          "execution_count": 79
        }
      ]
    },
    {
      "cell_type": "code",
      "source": [
        "plt.hist(date, color = 'purple')\n",
        "plt.xlabel('date')\n",
        "plt.ylabel('count')\n",
        "plt.title('number of tweets')"
      ],
      "metadata": {
        "colab": {
          "base_uri": "https://localhost:8080/",
          "height": 312
        },
        "id": "BXKuOKzWHT-6",
        "outputId": "992a574c-856c-4b30-eeca-a7df8d5c5936"
      },
      "execution_count": null,
      "outputs": [
        {
          "output_type": "execute_result",
          "data": {
            "text/plain": [
              "Text(0.5, 1.0, 'number of tweets')"
            ]
          },
          "metadata": {},
          "execution_count": 80
        },
        {
          "output_type": "display_data",
          "data": {
            "text/plain": [
              "<Figure size 432x288 with 1 Axes>"
            ],
            "image/png": "[encoded data removed]"
          },
          "metadata": {
            "needs_background": "light"
          }
        }
      ]
    },
    {
      "cell_type": "markdown",
      "source": [
        "# presenting number of retweets with a grapgh"
      ],
      "metadata": {
        "id": "hPJjLjWAZnAQ"
      }
    },
    {
      "cell_type": "code",
      "source": [
        "plt.plot(time, df1['Retweet'])\n",
        "plt.xlabel('time')\n",
        "plt.ylabel('count')\n",
        "plt.title('number of retweet')"
      ],
      "metadata": {
        "colab": {
          "base_uri": "https://localhost:8080/",
          "height": 312
        },
        "id": "G23xH-S4aCcG",
        "outputId": "589b1630-bc64-4b4f-a626-5255df238eee"
      },
      "execution_count": null,
      "outputs": [
        {
          "output_type": "execute_result",
          "data": {
            "text/plain": [
              "Text(0.5, 1.0, 'number of retweet')"
            ]
          },
          "metadata": {},
          "execution_count": 81
        },
        {
          "output_type": "display_data",
          "data": {
            "text/plain": [
              "<Figure size 432x288 with 1 Axes>"
            ],
            "image/png": "[encoded data removed]"
          },
          "metadata": {
            "needs_background": "light"
          }
        }
      ]
    },
    {
      "cell_type": "markdown",
      "source": [
        "# presenting common words from tweets with a graph"
      ],
      "metadata": {
        "id": "iyHtKlZkCDSQ"
      }
    },
    {
      "cell_type": "code",
      "source": [
        "# making a list from keyword search\n",
        "search_term = 'el classico'\n",
        "\n",
        "list_tweet = tweepy.Cursor(api.search,\n",
        "                           q = search_term,\n",
        "                           lang = 'en',\n",
        "                           since = '2022-03-21').items(400)\n",
        "\n",
        "all_tweet = [tweet.text for tweet in list_tweet]\n",
        "all_tweet [:15]"
      ],
      "metadata": {
        "id": "JPcLKN8bdPdu",
        "colab": {
          "base_uri": "https://localhost:8080/"
        },
        "outputId": "ff9eb958-0e1b-4400-c1a4-57f0e988d91a"
      },
      "execution_count": null,
      "outputs": [
        {
          "output_type": "execute_result",
          "data": {
            "text/plain": [
              "['@MixedMa30511035 @KBlancos9 Oh right that’s what your referring to 😭😭😭 yeah we have a wage structure unlike the el… https://t.co/bPm89L3PX3',\n",
              " '@KaizerRMA @bizimdirCEO how many El classico has Pedri played..',\n",
              " 'Baba did this shit in one el classico and umtiti (or dani) screamed at him to get up. https://t.co/bgPoIT6tcO',\n",
              " '@suppandiiii U are fast 😂😂😂this pic will become such a footy meme - too bad it didn’t excist when we played el Classico 😂',\n",
              " '@JesusRoIe Broo I used to think the same.. I saw the fkin el classico dis month... The amout of maturity Pedri has… https://t.co/SjkuLjH5bM',\n",
              " 'RT @MeseeksMobileGO: GRAND FINALS STARTING NOW\\nhttps://t.co/3uNllIQLpE\\n\\nMaybe not a Eleventy vs Zygnus El Classico, but still a classic no…',\n",
              " 'RT @MeseeksMobileGO: GRAND FINALS STARTING NOW\\nhttps://t.co/3uNllIQLpE\\n\\nMaybe not a Eleventy vs Zygnus El Classico, but still a classic no…',\n",
              " 'GRAND FINALS STARTING NOW\\nhttps://t.co/3uNllIQLpE\\n\\nMaybe not a Eleventy vs Zygnus El Classico, but still a classic… https://t.co/aakTgjsmb6',\n",
              " 'RT @pulse_fc: The “Pulse” fell 1:0 in a hard-fought game for the Rowland Final (The El Classico of the DMV).\\nCongratulations to @ChristosFC',\n",
              " '@LaPulgafan10 @theMadridZone @diarioas People like you are stupid for 4 years you been losing El classico this year… https://t.co/SELDU39ztA',\n",
              " 'RT @EventideSSB: EL CLASSICO\\nEventide beats Dauntless 8-0 https://t.co/WxwLRYJzyj',\n",
              " 'RT @grainnemac3: My dad christened it El Classico in Clones! What a game. It was won. It was lost and won again. Massive performances from…',\n",
              " '@IslamATH24 @fabiiio2002 @Ek_Ooh @Messiinhoo @goal Xavi don’t have plans of using dembele anymore, reason they got… https://t.co/fhOXhjlXZm',\n",
              " 'RT @pyzaroti: After the El Classico I think Mbappe is loving the life at Barcelona  #ansu #Barcelona https://t.co/QMJ4AGatpu',\n",
              " '@HoodTrader_ @xvisbroke Crypto el classico']"
            ]
          },
          "metadata": {},
          "execution_count": 52
        }
      ]
    },
    {
      "cell_type": "code",
      "source": [
        "# removing url from tweet list\n",
        "def remove(txt):\n",
        "  return re.sub(\"[^0-9A-za-z \\t]|(\\w+:\\/\\/\\S+)\",\"\",txt)\n",
        "\n",
        "tweet_remove_url = [remove(list_tweet) for list_tweet in all_tweet]\n",
        "tweet_remove_url[:15]"
      ],
      "metadata": {
        "id": "jz4c8PTmWJZ8",
        "colab": {
          "base_uri": "https://localhost:8080/"
        },
        "outputId": "f7c26010-5958-4c21-d6aa-69b632b2015f"
      },
      "execution_count": null,
      "outputs": [
        {
          "output_type": "execute_result",
          "data": {
            "text/plain": [
              "['MixedMa30511035 KBlancos9 Oh right thats what your referring to  yeah we have a wage structure unlike the el ',\n",
              " 'KaizerRMA bizimdirCEO how many El classico has Pedri played',\n",
              " 'Baba did this shit in one el classico and umtiti or dani screamed at him to get up ',\n",
              " 'suppandiiii U are fast this pic will become such a footy meme  too bad it didnt excist when we played el Classico ',\n",
              " 'JesusRoIe Broo I used to think the same I saw the fkin el classico dis month The amout of maturity Pedri has ',\n",
              " 'RT MeseeksMobileGO GRAND FINALS STARTING NOWMaybe not a Eleventy vs Zygnus El Classico but still a classic no',\n",
              " 'RT MeseeksMobileGO GRAND FINALS STARTING NOWMaybe not a Eleventy vs Zygnus El Classico but still a classic no',\n",
              " 'GRAND FINALS STARTING NOWMaybe not a Eleventy vs Zygnus El Classico but still a classic ',\n",
              " 'RT pulse_fc The Pulse fell 10 in a hardfought game for the Rowland Final The El Classico of the DMVCongratulations to ChristosFC',\n",
              " 'LaPulgafan10 theMadridZone diarioas People like you are stupid for 4 years you been losing El classico this year ',\n",
              " 'RT EventideSSB EL CLASSICOEventide beats Dauntless 80 ',\n",
              " 'RT grainnemac3 My dad christened it El Classico in Clones What a game It was won It was lost and won again Massive performances from',\n",
              " 'IslamATH24 fabiiio2002 Ek_Ooh Messiinhoo goal Xavi dont have plans of using dembele anymore reason they got ',\n",
              " 'RT pyzaroti After the El Classico I think Mbappe is loving the life at Barcelona  ansu Barcelona ',\n",
              " 'HoodTrader_ xvisbroke Crypto el classico']"
            ]
          },
          "metadata": {},
          "execution_count": 53
        }
      ]
    },
    {
      "cell_type": "code",
      "source": [
        "# splitting sentences\n",
        "word_in_tweet = [list_tweet.lower().split() for list_tweet in tweet_remove_url]\n",
        "word_in_tweet[:1]"
      ],
      "metadata": {
        "id": "4Y-dBTikXEtX",
        "colab": {
          "base_uri": "https://localhost:8080/"
        },
        "outputId": "eaf596c3-418b-4b9e-8d64-9ef96ca1a41b"
      },
      "execution_count": null,
      "outputs": [
        {
          "output_type": "execute_result",
          "data": {
            "text/plain": [
              "[['mixedma30511035',\n",
              "  'kblancos9',\n",
              "  'oh',\n",
              "  'right',\n",
              "  'thats',\n",
              "  'what',\n",
              "  'your',\n",
              "  'referring',\n",
              "  'to',\n",
              "  'yeah',\n",
              "  'we',\n",
              "  'have',\n",
              "  'a',\n",
              "  'wage',\n",
              "  'structure',\n",
              "  'unlike',\n",
              "  'the',\n",
              "  'el']]"
            ]
          },
          "metadata": {},
          "execution_count": 54
        }
      ]
    },
    {
      "cell_type": "code",
      "source": [
        "# counting common words in list\n",
        "list_tweet_no_url = list(iter.chain(*word_in_tweet))\n",
        "count_word_list_tweet = collections.Counter(list_tweet_no_url)\n",
        "count_word_list_tweet.most_common(15)"
      ],
      "metadata": {
        "id": "2icoSLbCaKes",
        "colab": {
          "base_uri": "https://localhost:8080/"
        },
        "outputId": "eaa23a5b-80d2-40fa-e355-e73a076a6903"
      },
      "execution_count": null,
      "outputs": [
        {
          "output_type": "execute_result",
          "data": {
            "text/plain": [
              "[('el', 355),\n",
              " ('classico', 332),\n",
              " ('the', 242),\n",
              " ('rt', 167),\n",
              " ('is', 117),\n",
              " ('a', 111),\n",
              " ('and', 95),\n",
              " ('of', 87),\n",
              " ('in', 75),\n",
              " ('ghana', 70),\n",
              " ('to', 59),\n",
              " ('nigeria', 59),\n",
              " ('but', 56),\n",
              " ('whos', 52),\n",
              " ('africa', 51)]"
            ]
          },
          "metadata": {},
          "execution_count": 55
        }
      ]
    },
    {
      "cell_type": "code",
      "source": [
        "# saving common words to a csv file\n",
        "df2 = pd.DataFrame(count_word_list_tweet.most_common(15), columns = ['words','count'])\n",
        "df2.to_csv('common-words.csv')\n",
        "\n",
        "df2"
      ],
      "metadata": {
        "id": "9idvloATazo7",
        "colab": {
          "base_uri": "https://localhost:8080/",
          "height": 520
        },
        "outputId": "0e60699f-af75-4330-a455-77de80d23653"
      },
      "execution_count": null,
      "outputs": [
        {
          "output_type": "execute_result",
          "data": {
            "text/plain": [
              "       words  count\n",
              "0         el    355\n",
              "1   classico    332\n",
              "2        the    242\n",
              "3         rt    167\n",
              "4         is    117\n",
              "5          a    111\n",
              "6        and     95\n",
              "7         of     87\n",
              "8         in     75\n",
              "9      ghana     70\n",
              "10        to     59\n",
              "11   nigeria     59\n",
              "12       but     56\n",
              "13      whos     52\n",
              "14    africa     51"
            ],
            "text/html": [
              "\n",
              "  <div id=\"df-d3b8e508-2b20-4b95-b5ae-e234337b4536\">\n",
              "    <div class=\"colab-df-container\">\n",
              "      <div>\n",
              "<style scoped>\n",
              "    .dataframe tbody tr th:only-of-type {\n",
              "        vertical-align: middle;\n",
              "    }\n",
              "\n",
              "    .dataframe tbody tr th {\n",
              "        vertical-align: top;\n",
              "    }\n",
              "\n",
              "    .dataframe thead th {\n",
              "        text-align: right;\n",
              "    }\n",
              "</style>\n",
              "<table border=\"1\" class=\"dataframe\">\n",
              "  <thead>\n",
              "    <tr style=\"text-align: right;\">\n",
              "      <th></th>\n",
              "      <th>words</th>\n",
              "      <th>count</th>\n",
              "    </tr>\n",
              "  </thead>\n",
              "  <tbody>\n",
              "    <tr>\n",
              "      <th>0</th>\n",
              "      <td>el</td>\n",
              "      <td>355</td>\n",
              "    </tr>\n",
              "    <tr>\n",
              "      <th>1</th>\n",
              "      <td>classico</td>\n",
              "      <td>332</td>\n",
              "    </tr>\n",
              "    <tr>\n",
              "      <th>2</th>\n",
              "      <td>the</td>\n",
              "      <td>242</td>\n",
              "    </tr>\n",
              "    <tr>\n",
              "      <th>3</th>\n",
              "      <td>rt</td>\n",
              "      <td>167</td>\n",
              "    </tr>\n",
              "    <tr>\n",
              "      <th>4</th>\n",
              "      <td>is</td>\n",
              "      <td>117</td>\n",
              "    </tr>\n",
              "    <tr>\n",
              "      <th>5</th>\n",
              "      <td>a</td>\n",
              "      <td>111</td>\n",
              "    </tr>\n",
              "    <tr>\n",
              "      <th>6</th>\n",
              "      <td>and</td>\n",
              "      <td>95</td>\n",
              "    </tr>\n",
              "    <tr>\n",
              "      <th>7</th>\n",
              "      <td>of</td>\n",
              "      <td>87</td>\n",
              "    </tr>\n",
              "    <tr>\n",
              "      <th>8</th>\n",
              "      <td>in</td>\n",
              "      <td>75</td>\n",
              "    </tr>\n",
              "    <tr>\n",
              "      <th>9</th>\n",
              "      <td>ghana</td>\n",
              "      <td>70</td>\n",
              "    </tr>\n",
              "    <tr>\n",
              "      <th>10</th>\n",
              "      <td>to</td>\n",
              "      <td>59</td>\n",
              "    </tr>\n",
              "    <tr>\n",
              "      <th>11</th>\n",
              "      <td>nigeria</td>\n",
              "      <td>59</td>\n",
              "    </tr>\n",
              "    <tr>\n",
              "      <th>12</th>\n",
              "      <td>but</td>\n",
              "      <td>56</td>\n",
              "    </tr>\n",
              "    <tr>\n",
              "      <th>13</th>\n",
              "      <td>whos</td>\n",
              "      <td>52</td>\n",
              "    </tr>\n",
              "    <tr>\n",
              "      <th>14</th>\n",
              "      <td>africa</td>\n",
              "      <td>51</td>\n",
              "    </tr>\n",
              "  </tbody>\n",
              "</table>\n",
              "</div>\n",
              "      <button class=\"colab-df-convert\" onclick=\"convertToInteractive('df-d3b8e508-2b20-4b95-b5ae-e234337b4536')\"\n",
              "              title=\"Convert this dataframe to an interactive table.\"\n",
              "              style=\"display:none;\">\n",
              "        \n",
              "  <svg xmlns=\"http://www.w3.org/2000/svg\" height=\"24px\"viewBox=\"0 0 24 24\"\n",
              "       width=\"24px\">\n",
              "    <path d=\"M0 0h24v24H0V0z\" fill=\"none\"/>\n",
              "    <path d=\"M18.56 5.44l.94 2.06.94-2.06 2.06-.94-2.06-.94-.94-2.06-.94 2.06-2.06.94zm-11 1L8.5 8.5l.94-2.06 2.06-.94-2.06-.94L8.5 2.5l-.94 2.06-2.06.94zm10 10l.94 2.06.94-2.06 2.06-.94-2.06-.94-.94-2.06-.94 2.06-2.06.94z\"/><path d=\"M17.41 7.96l-1.37-1.37c-.4-.4-.92-.59-1.43-.59-.52 0-1.04.2-1.43.59L10.3 9.45l-7.72 7.72c-.78.78-.78 2.05 0 2.83L4 21.41c.39.39.9.59 1.41.59.51 0 1.02-.2 1.41-.59l7.78-7.78 2.81-2.81c.8-.78.8-2.07 0-2.86zM5.41 20L4 18.59l7.72-7.72 1.47 1.35L5.41 20z\"/>\n",
              "  </svg>\n",
              "      </button>\n",
              "      \n",
              "  <style>\n",
              "    .colab-df-container {\n",
              "      display:flex;\n",
              "      flex-wrap:wrap;\n",
              "      gap: 12px;\n",
              "    }\n",
              "\n",
              "    .colab-df-convert {\n",
              "      background-color: #E8F0FE;\n",
              "      border: none;\n",
              "      border-radius: 50%;\n",
              "      cursor: pointer;\n",
              "      display: none;\n",
              "      fill: #1967D2;\n",
              "      height: 32px;\n",
              "      padding: 0 0 0 0;\n",
              "      width: 32px;\n",
              "    }\n",
              "\n",
              "    .colab-df-convert:hover {\n",
              "      background-color: #E2EBFA;\n",
              "      box-shadow: 0px 1px 2px rgba(60, 64, 67, 0.3), 0px 1px 3px 1px rgba(60, 64, 67, 0.15);\n",
              "      fill: #174EA6;\n",
              "    }\n",
              "\n",
              "    [theme=dark] .colab-df-convert {\n",
              "      background-color: #3B4455;\n",
              "      fill: #D2E3FC;\n",
              "    }\n",
              "\n",
              "    [theme=dark] .colab-df-convert:hover {\n",
              "      background-color: #434B5C;\n",
              "      box-shadow: 0px 1px 3px 1px rgba(0, 0, 0, 0.15);\n",
              "      filter: drop-shadow(0px 1px 2px rgba(0, 0, 0, 0.3));\n",
              "      fill: #FFFFFF;\n",
              "    }\n",
              "  </style>\n",
              "\n",
              "      <script>\n",
              "        const buttonEl =\n",
              "          document.querySelector('#df-d3b8e508-2b20-4b95-b5ae-e234337b4536 button.colab-df-convert');\n",
              "        buttonEl.style.display =\n",
              "          google.colab.kernel.accessAllowed ? 'block' : 'none';\n",
              "\n",
              "        async function convertToInteractive(key) {\n",
              "          const element = document.querySelector('#df-d3b8e508-2b20-4b95-b5ae-e234337b4536');\n",
              "          const dataTable =\n",
              "            await google.colab.kernel.invokeFunction('convertToInteractive',\n",
              "                                                     [key], {});\n",
              "          if (!dataTable) return;\n",
              "\n",
              "          const docLinkHtml = 'Like what you see? Visit the ' +\n",
              "            '<a target=\"_blank\" href=https://colab.research.google.com/notebooks/data_table.ipynb>data table notebook</a>'\n",
              "            + ' to learn more about interactive tables.';\n",
              "          element.innerHTML = '';\n",
              "          dataTable['output_type'] = 'display_data';\n",
              "          await google.colab.output.renderOutput(dataTable, element);\n",
              "          const docLink = document.createElement('div');\n",
              "          docLink.innerHTML = docLinkHtml;\n",
              "          element.appendChild(docLink);\n",
              "        }\n",
              "      </script>\n",
              "    </div>\n",
              "  </div>\n",
              "  "
            ]
          },
          "metadata": {},
          "execution_count": 59
        }
      ]
    },
    {
      "cell_type": "code",
      "source": [
        "# presenting common word data as a bar graph\n",
        "common_word = pd.read_csv('common-words.csv')\n",
        "\n",
        "common_word.plot(kind = 'bar', x = 'words', y = 'count', title = 'common words')"
      ],
      "metadata": {
        "id": "YznI95Vnbdft",
        "colab": {
          "base_uri": "https://localhost:8080/",
          "height": 342
        },
        "outputId": "4ec69e8a-0c87-49c2-faa9-39c435797103"
      },
      "execution_count": null,
      "outputs": [
        {
          "output_type": "execute_result",
          "data": {
            "text/plain": [
              "<matplotlib.axes._subplots.AxesSubplot at 0x7fe11ec63310>"
            ]
          },
          "metadata": {},
          "execution_count": 61
        },
        {
          "output_type": "display_data",
          "data": {
            "text/plain": [
              "<Figure size 432x288 with 1 Axes>"
            ],
            "image/png": "[encoded data removed]"
          },
          "metadata": {
            "needs_background": "light"
          }
        }
      ]
    },
    {
      "cell_type": "code",
      "source": [
        "# presenting data as a pie chart\n",
        "common_word['words'].value_counts().plot(kind = 'pie', title = 'common words')"
      ],
      "metadata": {
        "colab": {
          "base_uri": "https://localhost:8080/",
          "height": 281
        },
        "id": "OTk6L5gZy-89",
        "outputId": "b7611d31-1530-46e7-bb49-7f74be0b34fd"
      },
      "execution_count": null,
      "outputs": [
        {
          "output_type": "execute_result",
          "data": {
            "text/plain": [
              "<matplotlib.axes._subplots.AxesSubplot at 0x7fe11d39f090>"
            ]
          },
          "metadata": {},
          "execution_count": 62
        },
        {
          "output_type": "display_data",
          "data": {
            "text/plain": [
              "<Figure size 432x288 with 1 Axes>"
            ],
            "image/png": "[encoded data removed]"
          },
          "metadata": {}
        }
      ]
    }
  ],
  "metadata": {
    "colab": {
      "collapsed_sections": [],
      "name": "11914031_RD.ipynb",
      "provenance": []
    },
    "kernelspec": {
      "display_name": "Python 3",
      "name": "python3"
    },
    "language_info": {
      "name": "python"
    }
  },
  "nbformat": 4,
  "nbformat_minor": 0
}